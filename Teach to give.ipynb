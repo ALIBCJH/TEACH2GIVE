{
 "cells": [
  {
   "cell_type": "markdown",
   "id": "5e1168a5",
   "metadata": {},
   "source": [
    "# Fizz-Buzz Challenge"
   ]
  },
  {
   "cell_type": "code",
   "execution_count": 6,
   "id": "1d9c1d2f",
   "metadata": {},
   "outputs": [
    {
     "name": "stdout",
     "output_type": "stream",
     "text": [
      "FizzBuzz\n"
     ]
    }
   ],
   "source": [
    "#Write a program that prints the numbers from 1 to 100. \n",
    "#For multiples of 3, print \"Fizz\"; for\n",
    "#multiples of 5, print \"Buzz\"; \n",
    "#and for numbers that are multiples of both 3 and 5, \n",
    "#print\"FizzBuzz\".\n",
    "\n",
    "def Fizz_Buzz(input):\n",
    "    \n",
    "    if input %3 == 0 and input %5 == 0:\n",
    "        return \"FizzBuzz\"\n",
    "    \n",
    "    if input %3 == 0:\n",
    "        return \"Fizz\"\n",
    "    \n",
    "    if input %5 == 0:\n",
    "        return \"Buzz\"\n",
    "    \n",
    "    return input\n",
    "\n",
    "print(Fizz_Buzz(15))"
   ]
  },
  {
   "cell_type": "markdown",
   "id": "8916e088",
   "metadata": {},
   "source": [
    "# Fibonacci"
   ]
  },
  {
   "cell_type": "code",
   "execution_count": 12,
   "id": "d1aee92c",
   "metadata": {},
   "outputs": [
    {
     "name": "stdout",
     "output_type": "stream",
     "text": [
      "Enter a number:7\n",
      "0 1 1 2 3 5 8 "
     ]
    }
   ],
   "source": [
    "num = int(input(\"Enter a number:\"))\n",
    "n1 = 0\n",
    "n2 = 1\n",
    "\n",
    "sum = 0\n",
    "        \n",
    "if num<=0:\n",
    "            print(\"Please Enter A Number Greater Than 0\")\n",
    "            \n",
    "            \n",
    "else:\n",
    "    for i in range (0, num):\n",
    "            print(sum, end=\" \")\n",
    "            n1 = n2\n",
    "            n2 = sum\n",
    "            sum = n1 + n2\n",
    "            \n",
    "            \n",
    "\n"
   ]
  },
  {
   "cell_type": "markdown",
   "id": "93cc40fc",
   "metadata": {},
   "source": [
    "# Question 3\n",
    "#Write a program that takes an integer as input and returns true if the input is a power of two."
   ]
  },
  {
   "cell_type": "code",
   "execution_count": 26,
   "id": "a44290aa",
   "metadata": {},
   "outputs": [
    {
     "name": "stdout",
     "output_type": "stream",
     "text": [
      "Enter a number: 3\n",
      "false\n"
     ]
    }
   ],
   "source": [
    "def power_of_2(n):\n",
    "    if n > 0:\n",
    "        if (n & (n-1)) == 0:\n",
    "            print(\"True\")\n",
    "        else:\n",
    "            print(\"false\")\n",
    "    \n",
    "\n",
    "#Allows users  to input  their preferred  numbers\n",
    "num = int(input(\"Enter a number: \"))\n",
    "\n",
    "#Fuction Call\n",
    "power_of_2(num)"
   ]
  },
  {
   "cell_type": "markdown",
   "id": "09fba93d",
   "metadata": {},
   "source": [
    "# QUESTION 4\n",
    "Write a program that accepts a string as input, capitalizes the first letter of each word in the\n",
    "string, and then returns the result string."
   ]
  },
  {
   "cell_type": "code",
   "execution_count": 27,
   "id": "c0c11c8d",
   "metadata": {},
   "outputs": [
    {
     "name": "stdout",
     "output_type": "stream",
     "text": [
      "I  LOVE PROGRAMMING IN  PYTHON AND JAVASCRIPT\n",
      "i  love programming in  python and javascript\n"
     ]
    }
   ],
   "source": [
    "my_string = \"i  love programming in  python and javascript\"\n",
    "print(my_string.upper())\n",
    "print(my_string.lower())"
   ]
  },
  {
   "cell_type": "markdown",
   "id": "7a8f5366",
   "metadata": {},
   "source": [
    "# Question 5: Reverse Integer\n",
    "Write a program that takes an integer as input and returns an integer with reversed digit\n",
    "ordering."
   ]
  },
  {
   "cell_type": "code",
   "execution_count": 30,
   "id": "cc05749d",
   "metadata": {},
   "outputs": [
    {
     "name": "stdout",
     "output_type": "stream",
     "text": [
      "Enter a number: 54321\n",
      "Reverse of number is:  54321 is : 1\n",
      "Reverse of number is:  54321 is : 12\n",
      "Reverse of number is:  54321 is : 123\n",
      "Reverse of number is:  54321 is : 1234\n",
      "Reverse of number is:  54321 is : 12345\n"
     ]
    }
   ],
   "source": [
    "number = int(input(\"Enter a number: \"))\n",
    "reverse = 0\n",
    "temp = number\n",
    "\n",
    "while temp !=0:\n",
    "        last_digit = temp %10\n",
    "        reverse = reverse * 10 + last_digit\n",
    "        temp = temp // 10\n",
    "        print(\"Reverse of number is: \", number, \"is :\", reverse)\n"
   ]
  },
  {
   "cell_type": "markdown",
   "id": "ae024411",
   "metadata": {},
   "source": [
    "# Question 6: Count Vowels\n",
    "Write a program that counts the number of vowels in a sentence."
   ]
  },
  {
   "cell_type": "code",
   "execution_count": 38,
   "id": "dbcc081c",
   "metadata": {},
   "outputs": [
    {
     "name": "stdout",
     "output_type": "stream",
     "text": [
      "Text:JAkes\n",
      "Count: 0\n",
      "Count: 1\n",
      "Count: 1\n",
      "Count: 2\n",
      "Count: 2\n"
     ]
    }
   ],
   "source": [
    "text = input(\"Text:\")\n",
    "\n",
    "count = 0\n",
    "\n",
    "for characters in  text:\n",
    "    if (characters in \"AaEeIiOoUu\"):\n",
    "        count += 1\n",
    "    print(\"Count:\" ,count)"
   ]
  },
  {
   "cell_type": "code",
   "execution_count": null,
   "id": "a7722eb2",
   "metadata": {},
   "outputs": [],
   "source": []
  }
 ],
 "metadata": {
  "kernelspec": {
   "display_name": "Python 3 (ipykernel)",
   "language": "python",
   "name": "python3"
  },
  "language_info": {
   "codemirror_mode": {
    "name": "ipython",
    "version": 3
   },
   "file_extension": ".py",
   "mimetype": "text/x-python",
   "name": "python",
   "nbconvert_exporter": "python",
   "pygments_lexer": "ipython3",
   "version": "3.10.9"
  }
 },
 "nbformat": 4,
 "nbformat_minor": 5
}
